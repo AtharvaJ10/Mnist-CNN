{
 "cells": [
  {
   "cell_type": "code",
   "execution_count": 1,
   "metadata": {
    "_cell_guid": "b1076dfc-b9ad-4769-8c92-a6c4dae69d19",
    "_uuid": "8f2839f25d086af736a60e9eeb907d3b93b6e0e5"
   },
   "outputs": [
    {
     "name": "stdout",
     "output_type": "stream",
     "text": [
      "['train.csv', 'sample_submission.csv', 'test.csv']\n"
     ]
    }
   ],
   "source": [
    "# This Python 3 environment comes with many helpful analytics libraries installed\n",
    "# It is defined by the kaggle/python docker image: https://github.com/kaggle/docker-python\n",
    "# For example, here's several helpful packages to load in \n",
    "\n",
    "import numpy as np # linear algebra\n",
    "import pandas as pd # data processing, CSV file I/O (e.g. pd.read_csv)\n",
    "\n",
    "# Input data files are available in the \"../input/\" directory.\n",
    "# For example, running this (by clicking run or pressing Shift+Enter) will list the files in the input directory\n",
    "\n",
    "import os\n",
    "print(os.listdir(\"../input\"))\n",
    "\n",
    "# Any results you write to the current directory are saved as output."
   ]
  },
  {
   "cell_type": "code",
   "execution_count": 2,
   "metadata": {
    "_cell_guid": "79c7e3d0-c299-4dcb-8224-4455121ee9b0",
    "_uuid": "d629ff2d2480ee46fbb7e2d37f6b5fab8052498a"
   },
   "outputs": [],
   "source": [
    "training_set = pd.read_csv('../input/train.csv')\n",
    "testing_set = pd.read_csv('../input/test.csv')"
   ]
  },
  {
   "cell_type": "code",
   "execution_count": 3,
   "metadata": {},
   "outputs": [
    {
     "name": "stdout",
     "output_type": "stream",
     "text": [
      "<class 'pandas.core.frame.DataFrame'>\n",
      "RangeIndex: 42000 entries, 0 to 41999\n",
      "Columns: 785 entries, label to pixel783\n",
      "dtypes: int64(785)\n",
      "memory usage: 251.5 MB\n",
      "\n",
      "<class 'pandas.core.frame.DataFrame'>\n",
      "RangeIndex: 28000 entries, 0 to 27999\n",
      "Columns: 784 entries, pixel0 to pixel783\n",
      "dtypes: int64(784)\n",
      "memory usage: 167.5 MB\n"
     ]
    }
   ],
   "source": [
    "training_set.info()\n",
    "print()\n",
    "testing_set.info()"
   ]
  },
  {
   "cell_type": "code",
   "execution_count": 4,
   "metadata": {},
   "outputs": [],
   "source": [
    "y_train = training_set['label']\n",
    "x_train = training_set.drop(labels='label',axis=1)\n",
    "del training_set"
   ]
  },
  {
   "cell_type": "code",
   "execution_count": 5,
   "metadata": {},
   "outputs": [
    {
     "name": "stderr",
     "output_type": "stream",
     "text": [
      "Using TensorFlow backend.\n"
     ]
    }
   ],
   "source": [
    "from keras.utils.np_utils import to_categorical    #Encoding the label\n",
    "y_train = to_categorical(y_train, num_classes = 10)"
   ]
  },
  {
   "cell_type": "code",
   "execution_count": 6,
   "metadata": {},
   "outputs": [],
   "source": [
    "x_train = x_train.values.reshape(-1,28,28,1)   #Reshaping the values\n",
    "testing_set = testing_set.values.reshape(-1,28,28,1)"
   ]
  },
  {
   "cell_type": "code",
   "execution_count": 7,
   "metadata": {},
   "outputs": [],
   "source": [
    "from sklearn.model_selection import train_test_split\n",
    "x_train,x_test,y_train,y_test = train_test_split(x_train,y_train,test_size=0.1)"
   ]
  },
  {
   "cell_type": "code",
   "execution_count": 8,
   "metadata": {},
   "outputs": [],
   "source": [
    "from keras.models import Sequential\n",
    "from keras.layers import Convolution2D,MaxPooling2D,Flatten,Dense,Dropout"
   ]
  },
  {
   "cell_type": "code",
   "execution_count": 9,
   "metadata": {},
   "outputs": [
    {
     "name": "stderr",
     "output_type": "stream",
     "text": [
      "/opt/conda/lib/python3.6/site-packages/ipykernel_launcher.py:7: UserWarning: Update your `Conv2D` call to the Keras 2 API: `Conv2D(32, (3, 3), activation=\"relu\")`\n",
      "  import sys\n",
      "/opt/conda/lib/python3.6/site-packages/ipykernel_launcher.py:13: UserWarning: Update your `Dense` call to the Keras 2 API: `Dense(activation=\"relu\", units=128)`\n",
      "  del sys.path[0]\n",
      "/opt/conda/lib/python3.6/site-packages/ipykernel_launcher.py:14: UserWarning: Update your `Dense` call to the Keras 2 API: `Dense(activation=\"softmax\", units=10)`\n",
      "  \n"
     ]
    }
   ],
   "source": [
    "classifier = Sequential()\n",
    "\n",
    "classifier.add(Convolution2D(filters = 32,kernel_size=(3,3),input_shape = (28,28,1),activation='relu'))\n",
    "classifier.add(MaxPooling2D(pool_size=(2,2)))\n",
    "classifier.add(Dropout(0.15))\n",
    "\n",
    "classifier.add(Convolution2D(32,3,3,activation='relu'))\n",
    "classifier.add(MaxPooling2D(pool_size=(2,2)))\n",
    "classifier.add(Dropout(0.15))\n",
    "\n",
    "classifier.add(Flatten())\n",
    "\n",
    "classifier.add(Dense(output_dim = 128, activation='relu'))\n",
    "classifier.add(Dense(output_dim=10,activation='softmax'))\n"
   ]
  },
  {
   "cell_type": "code",
   "execution_count": 10,
   "metadata": {},
   "outputs": [],
   "source": [
    "classifier.compile(optimizer='adam',loss='categorical_crossentropy',metrics=['accuracy'])"
   ]
  },
  {
   "cell_type": "code",
   "execution_count": 11,
   "metadata": {},
   "outputs": [],
   "source": [
    "from keras.preprocessing.image import ImageDataGenerator   #data augmentation\n",
    "train_datagen = ImageDataGenerator(rescale = 1./255,shear_range=0.1,zoom_range=0.1,horizontal_flip=True)\n",
    "\n",
    "x_test = x_test/255.0"
   ]
  },
  {
   "cell_type": "code",
   "execution_count": 12,
   "metadata": {},
   "outputs": [],
   "source": [
    "train_datagen.fit(x_train)"
   ]
  },
  {
   "cell_type": "code",
   "execution_count": 13,
   "metadata": {},
   "outputs": [
    {
     "name": "stdout",
     "output_type": "stream",
     "text": [
      "Epoch 1/5\n",
      " - 23s - loss: 0.3671 - acc: 0.8833 - val_loss: 0.1322 - val_acc: 0.9574\n",
      "Epoch 2/5\n",
      " - 14s - loss: 0.1368 - acc: 0.9567 - val_loss: 0.0867 - val_acc: 0.9719\n",
      "Epoch 3/5\n",
      " - 14s - loss: 0.0985 - acc: 0.9690 - val_loss: 0.0634 - val_acc: 0.9807\n",
      "Epoch 4/5\n",
      " - 14s - loss: 0.0793 - acc: 0.9741 - val_loss: 0.0799 - val_acc: 0.9752\n",
      "Epoch 5/5\n",
      " - 14s - loss: 0.0714 - acc: 0.9775 - val_loss: 0.0598 - val_acc: 0.9810\n"
     ]
    },
    {
     "data": {
      "text/plain": [
       "<keras.callbacks.History at 0x7f9824c49da0>"
      ]
     },
     "execution_count": 13,
     "metadata": {},
     "output_type": "execute_result"
    }
   ],
   "source": [
    "#classifier.fit(x_train,y_train,epochs=20,batch_size=86)\n",
    "classifier.fit_generator(train_datagen.flow(x_train,y_train,batch_size=32)\n",
    "                         ,epochs=5,validation_data=(x_test,y_test),verbose=2,steps_per_epoch=x_train.shape[0] // 32)"
   ]
  },
  {
   "cell_type": "code",
   "execution_count": 14,
   "metadata": {},
   "outputs": [],
   "source": [
    "from sklearn.metrics import confusion_matrix,classification_report\n",
    "y_pred = classifier.predict(x_test)\n",
    "Y_pred_classes = np.argmax(y_pred,axis = 1) \n",
    "Y_true = np.argmax(y_test,axis = 1) \n",
    "cm = confusion_matrix(Y_true, Y_pred_classes) \n",
    "cr = classification_report(Y_true,Y_pred_classes)"
   ]
  },
  {
   "cell_type": "code",
   "execution_count": 15,
   "metadata": {},
   "outputs": [
    {
     "name": "stdout",
     "output_type": "stream",
     "text": [
      "              precision    recall  f1-score   support\n",
      "\n",
      "           0       0.99      1.00      0.99       437\n",
      "           1       1.00      0.99      0.99       441\n",
      "           2       0.98      0.98      0.98       435\n",
      "           3       0.99      0.98      0.98       423\n",
      "           4       0.99      0.96      0.97       379\n",
      "           5       0.98      0.97      0.98       378\n",
      "           6       0.96      0.99      0.97       401\n",
      "           7       0.98      0.99      0.98       467\n",
      "           8       0.98      0.98      0.98       403\n",
      "           9       0.96      0.97      0.97       436\n",
      "\n",
      "    accuracy                           0.98      4200\n",
      "   macro avg       0.98      0.98      0.98      4200\n",
      "weighted avg       0.98      0.98      0.98      4200\n",
      "\n",
      "\n",
      "[[435   0   0   0   0   1   1   0   0   0]\n",
      " [  0 436   3   0   0   0   1   1   0   0]\n",
      " [  1   1 425   1   0   3   3   0   1   0]\n",
      " [  0   0   0 416   0   1   1   1   3   1]\n",
      " [  0   0   0   0 362   0   2   2   0  13]\n",
      " [  0   0   0   3   0 368   5   1   0   1]\n",
      " [  3   0   2   0   1   0 395   0   0   0]\n",
      " [  0   0   2   0   1   0   0 463   1   0]\n",
      " [  0   1   1   1   1   0   2   0 395   2]\n",
      " [  0   0   0   1   0   1   0   6   3 425]]\n"
     ]
    }
   ],
   "source": [
    "print(cr)\n",
    "print()\n",
    "print(cm)"
   ]
  },
  {
   "cell_type": "code",
   "execution_count": 16,
   "metadata": {},
   "outputs": [],
   "source": [
    "res = classifier.predict(testing_set)\n",
    "\n",
    "res = np.argmax(res,axis = 1)\n",
    "\n",
    "res = pd.Series(res,name=\"Label\")"
   ]
  },
  {
   "cell_type": "code",
   "execution_count": 17,
   "metadata": {},
   "outputs": [],
   "source": [
    "submission = pd.concat([pd.Series(range(1,28001),name = \"ImageId\"),res],axis = 1)\n",
    "\n",
    "submission.to_csv(\"cnn_mnist_datagen.csv\",index=False)"
   ]
  },
  {
   "cell_type": "code",
   "execution_count": null,
   "metadata": {},
   "outputs": [],
   "source": []
  }
 ],
 "metadata": {
  "kernelspec": {
   "display_name": "Python 3",
   "language": "python",
   "name": "python3"
  },
  "language_info": {
   "codemirror_mode": {
    "name": "ipython",
    "version": 3
   },
   "file_extension": ".py",
   "mimetype": "text/x-python",
   "name": "python",
   "nbconvert_exporter": "python",
   "pygments_lexer": "ipython3",
   "version": "3.6.6"
  }
 },
 "nbformat": 4,
 "nbformat_minor": 1
}
